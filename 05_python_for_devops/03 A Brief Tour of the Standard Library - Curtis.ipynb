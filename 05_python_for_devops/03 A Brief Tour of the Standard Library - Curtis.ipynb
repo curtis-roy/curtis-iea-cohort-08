{
 "cells": [
  {
   "cell_type": "markdown",
   "metadata": {},
   "source": [
    "# A Brief Tour of the Python Standard Library"
   ]
  },
  {
   "cell_type": "markdown",
   "metadata": {},
   "source": [
    "## Topics\n",
    "* [What is the Standard Library?](#What-is-the-Standard-Library?)\n",
    "* [Scripting Modules](#Scripting-Modules)\n",
    "    * `os` module\n",
    "    * `os.path` module\n",
    "    * `sys` module\n",
    "    * `shutil` module\n",
    "    * `glob` module\n",
    "    * `argparse` module\n",
    "    * `re` module\n",
    "* [Special Data Types](#Special-Data-Types)\n",
    "    * `collections` module\n",
    "    * `datetime` module\n",
    "    * `decimal` module\n",
    "* [Concurrency](#Concurrency)\n",
    "    * `subprocess` module\n",
    "    * `threading` and `multiprocessing` modules\n",
    "    * `asyncio` module\n",
    "    "
   ]
  },
  {
   "cell_type": "markdown",
   "metadata": {},
   "source": [
    "## What is the Standard Library?\n",
    "The Python Standard Library fulfills Python's \"Batteries Included\" philosophy. It is a set of packages and modules contributed by the Python community and adopted into the core Python distribution.\n",
    "* Installed by default with most distributions of Python\n",
    "* Just regular modules and packages\n",
    "* Some of it may require extra system packages\n",
    "* Continually evolving\n",
    "* Hundreds of modules! https://docs.python.org/3/library/index.html"
   ]
  },
  {
   "cell_type": "markdown",
   "metadata": {},
   "source": [
    "## Scripting Modules"
   ]
  },
  {
   "cell_type": "markdown",
   "metadata": {
    "slideshow": {
     "slide_type": "subslide"
    }
   },
   "source": [
    "### The `os` and `os.path` modules\n",
    "* operating system stuff\n",
    "* i.e., dealing with files, directories, etc.\n",
    "* handles cross-platform path issues (don't do this manually!)\n",
    "* also running commands outside of Python"
   ]
  },
  {
   "cell_type": "code",
   "execution_count": 1,
   "metadata": {},
   "outputs": [
    {
     "data": {
      "text/plain": [
       "0"
      ]
     },
     "execution_count": 1,
     "metadata": {},
     "output_type": "execute_result"
    }
   ],
   "source": [
    "import os\n",
    "os.system('ls') # doesn't print anything in the notebook, \n",
    "# but try it in Python shell"
   ]
  },
  {
   "cell_type": "code",
   "execution_count": 2,
   "metadata": {},
   "outputs": [
    {
     "data": {
      "text/plain": [
       "0"
      ]
     },
     "execution_count": 2,
     "metadata": {},
     "output_type": "execute_result"
    }
   ],
   "source": [
    "os.system('touch newfile')\n",
    "os.system('ls newfile')"
   ]
  },
  {
   "cell_type": "code",
   "execution_count": 3,
   "metadata": {},
   "outputs": [
    {
     "data": {
      "text/plain": [
       "'/home/croy/curtis-iea-cohort-08/05_python_for_devops'"
      ]
     },
     "execution_count": 3,
     "metadata": {},
     "output_type": "execute_result"
    }
   ],
   "source": [
    "# get the current working directory\n",
    "os.getcwd()"
   ]
  },
  {
   "cell_type": "code",
   "execution_count": 5,
   "metadata": {},
   "outputs": [
    {
     "data": {
      "text/plain": [
       "True"
      ]
     },
     "execution_count": 5,
     "metadata": {},
     "output_type": "execute_result"
    }
   ],
   "source": [
    "# Does the file 'newfile' exist?\n",
    "os.path.exists('newfile')"
   ]
  },
  {
   "cell_type": "code",
   "execution_count": 6,
   "metadata": {},
   "outputs": [],
   "source": [
    "# create a directory\n",
    "os.mkdir('newdir')"
   ]
  },
  {
   "cell_type": "code",
   "execution_count": 7,
   "metadata": {},
   "outputs": [
    {
     "data": {
      "text/plain": [
       "False"
      ]
     },
     "execution_count": 7,
     "metadata": {},
     "output_type": "execute_result"
    }
   ],
   "source": [
    "# is 'newdir' a file?\n",
    "os.path.isfile('newdir')"
   ]
  },
  {
   "cell_type": "code",
   "execution_count": 8,
   "metadata": {},
   "outputs": [
    {
     "data": {
      "text/plain": [
       "True"
      ]
     },
     "execution_count": 8,
     "metadata": {},
     "output_type": "execute_result"
    }
   ],
   "source": [
    "#is 'newdir' a directory?\n",
    "os.path.isdir('newdir')"
   ]
  },
  {
   "cell_type": "code",
   "execution_count": 9,
   "metadata": {},
   "outputs": [
    {
     "data": {
      "text/plain": [
       "'/home/croy/code'"
      ]
     },
     "execution_count": 9,
     "metadata": {},
     "output_type": "execute_result"
    }
   ],
   "source": [
    "os.path.join('/home', 'croy/code')"
   ]
  },
  {
   "cell_type": "markdown",
   "metadata": {
    "slideshow": {
     "slide_type": "subslide"
    }
   },
   "source": [
    "### The __`sys`__ module\n",
    "* system-specific parameters and functions\n",
    "* we've already seen some examples, __`argv`__ and __`path`__"
   ]
  },
  {
   "cell_type": "code",
   "execution_count": 10,
   "metadata": {},
   "outputs": [
    {
     "data": {
      "text/plain": [
       "['/home/croy/curtis-iea-cohort-08/05_python_for_devops',\n",
       " '/usr/lib64/python37.zip',\n",
       " '/usr/lib64/python3.7',\n",
       " '/usr/lib64/python3.7/lib-dynload',\n",
       " '',\n",
       " '/usr/local/lib64/python3.7/site-packages',\n",
       " '/usr/local/lib/python3.7/site-packages',\n",
       " '/usr/lib64/python3.7/site-packages',\n",
       " '/usr/lib/python3.7/site-packages',\n",
       " '/usr/local/lib/python3.7/site-packages/IPython/extensions',\n",
       " '/home/croy/.ipython']"
      ]
     },
     "execution_count": 10,
     "metadata": {},
     "output_type": "execute_result"
    }
   ],
   "source": [
    "import sys\n",
    "sys.path"
   ]
  },
  {
   "cell_type": "code",
   "execution_count": 11,
   "metadata": {},
   "outputs": [
    {
     "data": {
      "text/plain": [
       "9223372036854775807"
      ]
     },
     "execution_count": 11,
     "metadata": {},
     "output_type": "execute_result"
    }
   ],
   "source": [
    "sys.maxsize # used to be bits, no longer the case "
   ]
  },
  {
   "cell_type": "code",
   "execution_count": 12,
   "metadata": {},
   "outputs": [
    {
     "data": {
      "text/plain": [
       "9223372036854775807"
      ]
     },
     "execution_count": 12,
     "metadata": {},
     "output_type": "execute_result"
    }
   ],
   "source": [
    "2 ** 63 - 1"
   ]
  },
  {
   "cell_type": "code",
   "execution_count": null,
   "metadata": {},
   "outputs": [],
   "source": [
    "# To exit a Python script, use sys.exit()\n",
    "# Won't work here, because we're in the notebook\n",
    "sys.exit()"
   ]
  },
  {
   "cell_type": "markdown",
   "metadata": {
    "slideshow": {
     "slide_type": "subslide"
    }
   },
   "source": [
    "### __`shutil`__ module\n",
    "* shell utilities\n",
    "* e.g., high-level file operations"
   ]
  },
  {
   "cell_type": "code",
   "execution_count": 13,
   "metadata": {
    "scrolled": true
   },
   "outputs": [
    {
     "name": "stdout",
     "output_type": "stream",
     "text": [
      "512\n"
     ]
    }
   ],
   "source": [
    "import os\n",
    "print(os.system('ls newfileCopy'))"
   ]
  },
  {
   "cell_type": "code",
   "execution_count": 14,
   "metadata": {},
   "outputs": [
    {
     "data": {
      "text/plain": [
       "'newfileCopy'"
      ]
     },
     "execution_count": 14,
     "metadata": {},
     "output_type": "execute_result"
    }
   ],
   "source": [
    "import shutil\n",
    "# create a copy of a file\n",
    "shutil.copy('newfile', 'newfileCopy')\n",
    "# os.system('cp newfile newfileCopy')"
   ]
  },
  {
   "cell_type": "code",
   "execution_count": 15,
   "metadata": {},
   "outputs": [
    {
     "data": {
      "text/plain": [
       "0"
      ]
     },
     "execution_count": 15,
     "metadata": {},
     "output_type": "execute_result"
    }
   ],
   "source": [
    "os.system('ls newfileCopy')"
   ]
  },
  {
   "cell_type": "code",
   "execution_count": 16,
   "metadata": {},
   "outputs": [
    {
     "data": {
      "text/plain": [
       "'newerfile'"
      ]
     },
     "execution_count": 16,
     "metadata": {},
     "output_type": "execute_result"
    }
   ],
   "source": [
    "shutil.move('newfileCopy', 'newerfile')"
   ]
  },
  {
   "cell_type": "code",
   "execution_count": 17,
   "metadata": {},
   "outputs": [
    {
     "data": {
      "text/plain": [
       "0"
      ]
     },
     "execution_count": 17,
     "metadata": {},
     "output_type": "execute_result"
    }
   ],
   "source": [
    "os.system('ls newerfile')"
   ]
  },
  {
   "cell_type": "markdown",
   "metadata": {
    "slideshow": {
     "slide_type": "subslide"
    }
   },
   "source": [
    "### __`glob`__ module\n",
    "* __`glob()`__ function matches file or directory names using Linux shell rules rather than regular expression syntax"
   ]
  },
  {
   "cell_type": "code",
   "execution_count": 18,
   "metadata": {},
   "outputs": [
    {
     "data": {
      "text/plain": [
       "['newdir', 'newerfile', 'newfile']"
      ]
     },
     "execution_count": 18,
     "metadata": {},
     "output_type": "execute_result"
    }
   ],
   "source": [
    "import glob\n",
    "glob.glob('n*')"
   ]
  },
  {
   "cell_type": "code",
   "execution_count": 19,
   "metadata": {},
   "outputs": [
    {
     "data": {
      "text/plain": [
       "['newerfile', 'newfile']"
      ]
     },
     "execution_count": 19,
     "metadata": {},
     "output_type": "execute_result"
    }
   ],
   "source": [
    "glob.glob('*e')"
   ]
  },
  {
   "cell_type": "code",
   "execution_count": 20,
   "metadata": {},
   "outputs": [
    {
     "data": {
      "text/plain": [
       "[]"
      ]
     },
     "execution_count": 20,
     "metadata": {},
     "output_type": "execute_result"
    }
   ],
   "source": [
    "glob.glob('???') # 3 individual characters"
   ]
  },
  {
   "cell_type": "code",
   "execution_count": 21,
   "metadata": {},
   "outputs": [
    {
     "data": {
      "text/plain": [
       "0"
      ]
     },
     "execution_count": 21,
     "metadata": {},
     "output_type": "execute_result"
    }
   ],
   "source": [
    "import os\n",
    "os.system('touch abc')"
   ]
  },
  {
   "cell_type": "code",
   "execution_count": 22,
   "metadata": {},
   "outputs": [
    {
     "data": {
      "text/plain": [
       "['abc']"
      ]
     },
     "execution_count": 22,
     "metadata": {},
     "output_type": "execute_result"
    }
   ],
   "source": [
    "glob.glob('???')"
   ]
  },
  {
   "cell_type": "markdown",
   "metadata": {},
   "source": [
    "### `argparse` module\n",
    "* Allow command line argument parsing for more complex command\n",
    "* Follows standards for Linux commands\n",
    "* Provides automatic help, nicely formatted output"
   ]
  },
  {
   "cell_type": "code",
   "execution_count": 23,
   "metadata": {},
   "outputs": [
    {
     "name": "stdout",
     "output_type": "stream",
     "text": [
      "Namespace(a=True, blog=' happy', c=None)\n",
      "-a was passed\n",
      "-b  happy was passed\n"
     ]
    }
   ],
   "source": [
    "import argparse\n",
    "\n",
    "parser = argparse.ArgumentParser(\n",
    "    description='argparse example')\n",
    "\n",
    "parser.add_argument('-a', action=\"store_true\",\n",
    "                    default=False)\n",
    "parser.add_argument('-b', action=\"store\", dest=\"blog\")\n",
    "parser.add_argument('-c', action=\"store\", dest=\"c\",\n",
    "                    type=int)\n",
    "parser.add_argument('--version', action='version', \n",
    "                    version='%(prog)s 2.0')\n",
    "\n",
    "# parse args from command line, which won't work in the notebook\n",
    "#args = parser.parse_args()\n",
    "\n",
    "# $ python3 myscript.py -a -b happy\n",
    "args = parser.parse_args(['-a', '-b happy'])\n",
    "\n",
    "print(args)\n",
    "\n",
    "if args.a:\n",
    "    print(\"-a was passed\")\n",
    "if args.blog:\n",
    "    print(\"-b\", args.blog, \"was passed\")\n",
    "if args.c:\n",
    "    print(\"-c\", args.c, \"was passed (int)\")"
   ]
  },
  {
   "cell_type": "code",
   "execution_count": 24,
   "metadata": {},
   "outputs": [
    {
     "name": "stdout",
     "output_type": "stream",
     "text": [
      "usage: ipykernel_launcher.py [-h] [-a] [-b BLOG] [-c C] [--version]\n",
      "\n",
      "argparse example\n",
      "\n",
      "optional arguments:\n",
      "  -h, --help  show this help message and exit\n",
      "  -a\n",
      "  -b BLOG\n",
      "  -c C\n",
      "  --version   show program's version number and exit\n"
     ]
    },
    {
     "ename": "SystemExit",
     "evalue": "0",
     "output_type": "error",
     "traceback": [
      "An exception has occurred, use %tb to see the full traceback.\n",
      "\u001b[0;31mSystemExit\u001b[0m\u001b[0;31m:\u001b[0m 0\n"
     ]
    },
    {
     "name": "stderr",
     "output_type": "stream",
     "text": [
      "/usr/local/lib/python3.7/site-packages/IPython/core/interactiveshell.py:3333: UserWarning: To exit: use 'exit', 'quit', or Ctrl-D.\n",
      "  warn(\"To exit: use 'exit', 'quit', or Ctrl-D.\", stacklevel=1)\n"
     ]
    }
   ],
   "source": [
    "parser.parse_args([\"--help\"])"
   ]
  },
  {
   "cell_type": "markdown",
   "metadata": {},
   "source": [
    "### `re` module\n",
    "* `re` module allow regular expression processing inside Python\n",
    "* Several different functions for matching text patterns\n",
    "* Support subgroups in matching"
   ]
  },
  {
   "cell_type": "markdown",
   "metadata": {
    "slideshow": {
     "slide_type": "slide"
    }
   },
   "source": [
    "### Quick Review: Regular Expressions\n",
    "* special sequence of characters that helps you find specific text sequences in strings, files, etc.\n",
    "* \"wildcard\" characters take the place of a group of characters"
   ]
  },
  {
   "cell_type": "markdown",
   "metadata": {
    "slideshow": {
     "slide_type": "subslide"
    }
   },
   "source": [
    "### RE Metacharacters\n",
    "```\n",
    ". = any character except newline\n",
    "^ = beginning of line/string\n",
    "$ = end of line/string\n",
    "* = 0+ of the preceding RE\n",
    "+ = 1+ of the preceding RE\n",
    "? = 0 or 1 instances of preceding RE\n",
    "{n} = exactly n instances of the preceding RE\n",
    "[] = match character set or range, e.g., [aeiou], [a-z], etc.\n",
    "(…) = matches the RE inside the parens, and creates a group \n",
    "```"
   ]
  },
  {
   "cell_type": "code",
   "execution_count": 25,
   "metadata": {},
   "outputs": [
    {
     "data": {
      "text/plain": [
       "<re.Match object; span=(0, 5), match='alpha'>"
      ]
     },
     "execution_count": 25,
     "metadata": {},
     "output_type": "execute_result"
    }
   ],
   "source": [
    "import re\n",
    "re.match('a.*a', 'alphabet')"
   ]
  },
  {
   "cell_type": "code",
   "execution_count": 27,
   "metadata": {},
   "outputs": [],
   "source": [
    "re.match('h.*t', 'alphabet') # .match only looks at first character"
   ]
  },
  {
   "cell_type": "code",
   "execution_count": 28,
   "metadata": {},
   "outputs": [
    {
     "data": {
      "text/plain": [
       "<re.Match object; span=(3, 8), match='habet'>"
      ]
     },
     "execution_count": 28,
     "metadata": {},
     "output_type": "execute_result"
    }
   ],
   "source": [
    "re.search('h.*t', 'alphabet') # .search looks deeper"
   ]
  },
  {
   "cell_type": "code",
   "execution_count": 30,
   "metadata": {},
   "outputs": [],
   "source": [
    "re.search('a.*z', 'alphabet')"
   ]
  },
  {
   "cell_type": "code",
   "execution_count": 31,
   "metadata": {},
   "outputs": [
    {
     "name": "stdout",
     "output_type": "stream",
     "text": [
      "5: To where it bent in --- undergrowth;\n",
      "7: Then took --- o---r, as just as fair,\t\n",
      "8: And having perhaps --- better claim,\t\n",
      "10: Though as for that --- passing ---re\t\n",
      "11: Had worn ---m really about --- same,\n",
      "15: Oh, I kept --- first for ano---r day!\t\n",
      "22: I took --- one less traveled by,\t\n",
      "23: And that has made all --- difference.\n"
     ]
    }
   ],
   "source": [
    "# you can search for fixed strings, rather than using wildcards...\n",
    "import re\n",
    "linenum = 0\n",
    "\n",
    "for line in open('poem.txt'):\n",
    "    linenum += 1\n",
    "    if re.search('the', line):\n",
    "        print('{}: {}'.format(linenum, \n",
    "                re.sub('the', '---', line)), end='')"
   ]
  },
  {
   "cell_type": "code",
   "execution_count": null,
   "metadata": {},
   "outputs": [],
   "source": [
    "!cat poem.txt"
   ]
  },
  {
   "cell_type": "code",
   "execution_count": 32,
   "metadata": {},
   "outputs": [
    {
     "data": {
      "text/plain": [
       "re.compile(r'l.*e', re.UNICODE)"
      ]
     },
     "execution_count": 32,
     "metadata": {},
     "output_type": "execute_result"
    }
   ],
   "source": [
    "import re\n",
    "o = re.search('l.*e', 'alphabet')\n",
    "o.re"
   ]
  },
  {
   "cell_type": "code",
   "execution_count": 33,
   "metadata": {},
   "outputs": [
    {
     "data": {
      "text/plain": [
       "'l.*e'"
      ]
     },
     "execution_count": 33,
     "metadata": {},
     "output_type": "execute_result"
    }
   ],
   "source": [
    "o.re.pattern"
   ]
  },
  {
   "cell_type": "code",
   "execution_count": 34,
   "metadata": {},
   "outputs": [
    {
     "data": {
      "text/plain": [
       "'alphabet'"
      ]
     },
     "execution_count": 34,
     "metadata": {},
     "output_type": "execute_result"
    }
   ],
   "source": [
    "o.string"
   ]
  },
  {
   "cell_type": "code",
   "execution_count": 35,
   "metadata": {},
   "outputs": [
    {
     "data": {
      "text/plain": [
       "(1, 7)"
      ]
     },
     "execution_count": 35,
     "metadata": {},
     "output_type": "execute_result"
    }
   ],
   "source": [
    "o.start(), o.end()"
   ]
  },
  {
   "cell_type": "code",
   "execution_count": 36,
   "metadata": {},
   "outputs": [
    {
     "data": {
      "text/plain": [
       "'lphabe'"
      ]
     },
     "execution_count": 36,
     "metadata": {},
     "output_type": "execute_result"
    }
   ],
   "source": [
    "o.string[o.start():o.end()]"
   ]
  },
  {
   "cell_type": "markdown",
   "metadata": {
    "slideshow": {
     "slide_type": "subslide"
    }
   },
   "source": [
    "## Lab: Write a Cheap Imitation of __`grep`__ in Python\n",
    "* using the modules we've learned, write a Python program which takes two command line arguments, a filename and a regex pattern\n",
    "* your program should act like __`grep`__ in that it should search for the pattern in each line of the file\n",
    "* if the pattern matches a given line, print out the line\n",
    "* BONUS: Provide extra options for your script to change the behavior."
   ]
  },
  {
   "cell_type": "code",
   "execution_count": null,
   "metadata": {},
   "outputs": [],
   "source": []
  },
  {
   "cell_type": "markdown",
   "metadata": {
    "slideshow": {
     "slide_type": "subslide"
    }
   },
   "source": [
    "## Bonus Lab: Pluralization\n",
    "* write a program (or function) which takes a word as a command line argument and outputs the plural of that word\n",
    "* your program should follow these rules:\n",
    "  * if the word ends in 's', 'x', or 'z', the plural adds 'es', e.g., ax => axes, loss => losses\n",
    "  * if the word ends in an 'h', which is not preceded by a vowel or 'd', 'g', 'k', 'p', 'r', or 't', the plural adds 'es', ",
    "e.g., moth => moths, but match => matches\n",
    "  * if the word ends in a 'y' which is not preceded by a vowel, then the plural strips the 'y' and adds 'ies', ",
    "e.g., baby => babies, but boy => boys\n",
    "  * otherwise just add 's'"
   ]
  },
  {
   "cell_type": "markdown",
   "metadata": {},
   "source": [
    "## Special Data Types"
   ]
  },
  {
   "cell_type": "markdown",
   "metadata": {},
   "source": [
    "### The `collections` module\n",
    "* contains specialized data structures\n",
    "* specialized dictionaries `defaultdict` and `Counter`\n",
    "* double-ended queue `deque`"
   ]
  },
  {
   "cell_type": "code",
   "execution_count": 37,
   "metadata": {},
   "outputs": [],
   "source": [
    "import collections\n",
    "\n",
    "name_by_org = collections.defaultdict(list)"
   ]
  },
  {
   "cell_type": "code",
   "execution_count": 38,
   "metadata": {},
   "outputs": [
    {
     "data": {
      "text/plain": [
       "defaultdict(list, {'Accounting': ['Joe', 'Bob', 'Steve', 'Jeff']})"
      ]
     },
     "execution_count": 38,
     "metadata": {},
     "output_type": "execute_result"
    }
   ],
   "source": [
    "name_by_org[\"Accounting\"] = [\"Joe\", \"Bob\", \"Steve\"]\n",
    "name_by_org[\"Accounting\"].append(\"Jeff\")\n",
    "name_by_org"
   ]
  },
  {
   "cell_type": "code",
   "execution_count": 39,
   "metadata": {},
   "outputs": [
    {
     "data": {
      "text/plain": [
       "defaultdict(list,\n",
       "            {'Accounting': ['Joe', 'Bob', 'Steve', 'Jeff'],\n",
       "             'Platforms': ['Lisa'],\n",
       "             'Engineering': ['Sam']})"
      ]
     },
     "execution_count": 39,
     "metadata": {},
     "output_type": "execute_result"
    }
   ],
   "source": [
    "name_by_org[\"Platforms\"].append(\"Lisa\")\n",
    "name_by_org[\"Engineering\"].append(\"Sam\")\n",
    "name_by_org"
   ]
  },
  {
   "cell_type": "code",
   "execution_count": 40,
   "metadata": {},
   "outputs": [
    {
     "data": {
      "text/plain": [
       "deque(['First', 'Second', 'Third', 'Fourth'])"
      ]
     },
     "execution_count": 40,
     "metadata": {},
     "output_type": "execute_result"
    }
   ],
   "source": [
    "deq = collections.deque([\"First\", \"Second\", \"Third\", \"Fourth\"])\n",
    "deq"
   ]
  },
  {
   "cell_type": "code",
   "execution_count": 41,
   "metadata": {},
   "outputs": [
    {
     "data": {
      "text/plain": [
       "deque(['Third', 'Fourth', 'First', 'Second'])"
      ]
     },
     "execution_count": 41,
     "metadata": {},
     "output_type": "execute_result"
    }
   ],
   "source": [
    "deq.rotate(2)\n",
    "deq"
   ]
  },
  {
   "cell_type": "code",
   "execution_count": 42,
   "metadata": {},
   "outputs": [
    {
     "data": {
      "text/plain": [
       "'Third'"
      ]
     },
     "execution_count": 42,
     "metadata": {},
     "output_type": "execute_result"
    }
   ],
   "source": [
    "deq.popleft()"
   ]
  },
  {
   "cell_type": "code",
   "execution_count": 43,
   "metadata": {},
   "outputs": [
    {
     "data": {
      "text/plain": [
       "'Fourth'"
      ]
     },
     "execution_count": 43,
     "metadata": {},
     "output_type": "execute_result"
    }
   ],
   "source": [
    "deq.popleft()"
   ]
  },
  {
   "cell_type": "markdown",
   "metadata": {},
   "source": [
    "### The `decimal` module\n",
    "* provides a fixed-point decimal type\n",
    "* import when you can NOT have unexpected rounding (i.e. financials)\n",
    "* follows a set standard"
   ]
  },
  {
   "cell_type": "code",
   "execution_count": 44,
   "metadata": {},
   "outputs": [
    {
     "data": {
      "text/plain": [
       "Decimal('5')"
      ]
     },
     "execution_count": 44,
     "metadata": {},
     "output_type": "execute_result"
    }
   ],
   "source": [
    "import decimal\n",
    "d = decimal.Decimal(5)\n",
    "d"
   ]
  },
  {
   "cell_type": "code",
   "execution_count": 45,
   "metadata": {},
   "outputs": [
    {
     "data": {
      "text/plain": [
       "Decimal('5.339999999999999857891452847979962825775146484375')"
      ]
     },
     "execution_count": 45,
     "metadata": {},
     "output_type": "execute_result"
    }
   ],
   "source": [
    "d = decimal.Decimal(5.34)\n",
    "d"
   ]
  },
  {
   "cell_type": "code",
   "execution_count": 46,
   "metadata": {},
   "outputs": [
    {
     "data": {
      "text/plain": [
       "Decimal('5.34')"
      ]
     },
     "execution_count": 46,
     "metadata": {},
     "output_type": "execute_result"
    }
   ],
   "source": [
    "d = decimal.Decimal(\"5.34\")\n",
    "d"
   ]
  },
  {
   "cell_type": "code",
   "execution_count": 47,
   "metadata": {},
   "outputs": [
    {
     "data": {
      "text/plain": [
       "28"
      ]
     },
     "execution_count": 47,
     "metadata": {},
     "output_type": "execute_result"
    }
   ],
   "source": [
    "decimal.getcontext().prec"
   ]
  },
  {
   "cell_type": "code",
   "execution_count": 48,
   "metadata": {},
   "outputs": [
    {
     "data": {
      "text/plain": [
       "Context(prec=28, rounding=ROUND_HALF_EVEN, Emin=-999999, Emax=999999, capitals=1, clamp=0, flags=[], traps=[InvalidOperation, DivisionByZero, Overflow])"
      ]
     },
     "execution_count": 48,
     "metadata": {},
     "output_type": "execute_result"
    }
   ],
   "source": [
    "decimal.getcontext()"
   ]
  },
  {
   "cell_type": "markdown",
   "metadata": {},
   "source": [
    "### Rounding Modes\n",
    "```\n",
    "decimal.ROUND_CEILING\n",
    "Round towards Infinity.\n",
    "\n",
    "decimal.ROUND_DOWN\n",
    "Round towards zero.\n",
    "\n",
    "decimal.ROUND_FLOOR\n",
    "Round towards -Infinity.\n",
    "\n",
    "decimal.ROUND_HALF_DOWN\n",
    "Round to nearest with ties going towards zero.\n",
    "\n",
    "decimal.ROUND_HALF_EVEN\n",
    "Round to nearest with ties going to nearest even integer.\n",
    "\n",
    "decimal.ROUND_HALF_UP\n",
    "Round to nearest with ties going away from zero.\n",
    "\n",
    "decimal.ROUND_UP\n",
    "Round away from zero.\n",
    "\n",
    "decimal.ROUND_05UP\n",
    "Round away from zero if last digit after rounding towards zero would have been 0 or 5; otherwise round towards zero.\n",
    "```"
   ]
  },
  {
   "cell_type": "code",
   "execution_count": 49,
   "metadata": {},
   "outputs": [
    {
     "name": "stdout",
     "output_type": "stream",
     "text": [
      "3.142857142857143 3.142857142857142857142857143\n"
     ]
    }
   ],
   "source": [
    "float_pi = 22 / 7\n",
    "dec_pi = decimal.Decimal(22) / decimal.Decimal(7)\n",
    "print(float_pi, dec_pi)"
   ]
  },
  {
   "cell_type": "code",
   "execution_count": 50,
   "metadata": {},
   "outputs": [
    {
     "data": {
      "text/plain": [
       "Decimal('3.141592920353982300884955752')"
      ]
     },
     "execution_count": 50,
     "metadata": {},
     "output_type": "execute_result"
    }
   ],
   "source": [
    "decimal.Decimal(355) / decimal.Decimal(113)"
   ]
  },
  {
   "cell_type": "markdown",
   "metadata": {},
   "source": [
    "### The `datetime` module\n",
    "* handles date and time math\n",
    "* provides `date`, `time`, and `datetime` types\n",
    "* flexible string formatting\n",
    "* does NOT provide timezone lists (they change a lot!)"
   ]
  },
  {
   "cell_type": "code",
   "execution_count": 51,
   "metadata": {},
   "outputs": [
    {
     "name": "stdout",
     "output_type": "stream",
     "text": [
      "1991\n",
      "2\n",
      "Day of the week (Monday = 0) 2\n"
     ]
    }
   ],
   "source": [
    "import datetime\n",
    "\n",
    "python_birthday = datetime.datetime.strptime(\"02/20/91\", \"%x\")\n",
    "\n",
    "print(python_birthday.year)\n",
    "print(python_birthday.month)\n",
    "print(\"Day of the week (Monday = 0)\", python_birthday.weekday())"
   ]
  },
  {
   "cell_type": "code",
   "execution_count": 52,
   "metadata": {},
   "outputs": [
    {
     "data": {
      "text/plain": [
       "'1991-02-20T00:00:00'"
      ]
     },
     "execution_count": 52,
     "metadata": {},
     "output_type": "execute_result"
    }
   ],
   "source": [
    "python_birthday.isoformat()"
   ]
  },
  {
   "cell_type": "code",
   "execution_count": 53,
   "metadata": {},
   "outputs": [
    {
     "data": {
      "text/plain": [
       "datetime.date(2022, 9, 5)"
      ]
     },
     "execution_count": 53,
     "metadata": {},
     "output_type": "execute_result"
    }
   ],
   "source": [
    "now = datetime.date.today()\n",
    "three_weeks_ago = now - datetime.timedelta(weeks=3)\n",
    "three_weeks_ago"
   ]
  },
  {
   "cell_type": "markdown",
   "metadata": {},
   "source": [
    "**NOTE**: Timezones change frequently for social, political, and various other reasons.  You can manage these manually, or the third party package `dateutil` provides a timezone database and functionality and is compatible with regular the `datetime` module.  "
   ]
  },
  {
   "cell_type": "markdown",
   "metadata": {},
   "source": [
    "### Lab: datetime manipulation\n",
    "* Using functions from the `datetime` module, write a small script called `convert_date.py` that converts an epoch timestamp to something human readable.\n",
    "* Have your script prompt the user for an epoch time, or allow the user to pipe in an epoch time from bash like so:  `date +%s | python3 convert_date.py`\n",
    "* BONUS: Provide extra options to your script to switch output between a \"friendly\" timestamp and an ISO 8601 format timestamp"
   ]
  },
  {
   "cell_type": "markdown",
   "metadata": {},
   "source": [
    "## Concurrency"
   ]
  },
  {
   "cell_type": "markdown",
   "metadata": {
    "slideshow": {
     "slide_type": "subslide"
    }
   },
   "source": [
    "### `subprocess` module\n",
    "* supplants __`os.system()/os.spawn()`__, both of which used to be standard way to run programs outside of Python\n",
    "* Allow running and controlling other programs, even interactively"
   ]
  },
  {
   "cell_type": "code",
   "execution_count": 1,
   "metadata": {},
   "outputs": [
    {
     "data": {
      "text/plain": [
       "'Tue Sep 27 06:53:44 PDT 2022'"
      ]
     },
     "execution_count": 1,
     "metadata": {},
     "output_type": "execute_result"
    }
   ],
   "source": [
    "import subprocess\n",
    "ret = subprocess.getoutput('date')\n",
    "ret"
   ]
  },
  {
   "cell_type": "code",
   "execution_count": 2,
   "metadata": {},
   "outputs": [
    {
     "data": {
      "text/plain": [
       "'01 Introduction - Python for DevOps - Curtis.ipynb\\n02 More Python for DevOps - Curtis.ipynb\\n03 A Brief Tour of the Standard Library - Curtis.ipynb\\n04 The Python Ecosystem - Curtis.ipynb\\nabc\\ncalculate_argv.py\\ncoroutines.py\\ndecimal_to_roman.py\\nfile_io_lab.py\\nfunctions_lab1.py\\nfunctions_lab2.py\\nfunctions_lab3.py\\nfunctions_lab4.py\\nhamlet.txt\\nimages\\nlist_comp_div_by_5.py\\nlist_comp_shirts.py\\nlist_comp_squares.py\\nlist_comp_vowel.py\\nnewdir\\nnewerfile\\nnewfile\\npoem.txt\\nprog1.py\\nrequirements.txt\\nroman_to_decimal2.py\\nscratch.py\\nuno_card_game.py\\nuplow_2.py\\nuplow_3.py\\nuplow_basic.py'"
      ]
     },
     "execution_count": 2,
     "metadata": {},
     "output_type": "execute_result"
    }
   ],
   "source": [
    "ret = subprocess.getoutput('ls')\n",
    "ret"
   ]
  },
  {
   "cell_type": "code",
   "execution_count": 3,
   "metadata": {},
   "outputs": [
    {
     "name": "stdout",
     "output_type": "stream",
     "text": [
      "01 Introduction - Python for DevOps - Curtis.ipynb\n",
      "02 More Python for DevOps - Curtis.ipynb\n",
      "03 A Brief Tour of the Standard Library - Curtis.ipynb\n",
      "04 The Python Ecosystem - Curtis.ipynb\n",
      "abc\n",
      "calculate_argv.py\n",
      "coroutines.py\n",
      "decimal_to_roman.py\n",
      "file_io_lab.py\n",
      "functions_lab1.py\n",
      "functions_lab2.py\n",
      "functions_lab3.py\n",
      "functions_lab4.py\n",
      "hamlet.txt\n",
      "images\n",
      "list_comp_div_by_5.py\n",
      "list_comp_shirts.py\n",
      "list_comp_squares.py\n",
      "list_comp_vowel.py\n",
      "newdir\n",
      "newerfile\n",
      "newfile\n",
      "poem.txt\n",
      "prog1.py\n",
      "requirements.txt\n",
      "roman_to_decimal2.py\n",
      "scratch.py\n",
      "uno_card_game.py\n",
      "uplow_2.py\n",
      "uplow_3.py\n",
      "uplow_basic.py\n"
     ]
    }
   ],
   "source": [
    "print(ret)"
   ]
  },
  {
   "cell_type": "code",
   "execution_count": 4,
   "metadata": {},
   "outputs": [
    {
     "name": "stdout",
     "output_type": "stream",
     "text": [
      "Help on function run in module subprocess:\n",
      "\n",
      "run(*popenargs, input=None, capture_output=False, timeout=None, check=False, **kwargs)\n",
      "    Run command with arguments and return a CompletedProcess instance.\n",
      "    \n",
      "    The returned instance will have attributes args, returncode, stdout and\n",
      "    stderr. By default, stdout and stderr are not captured, and those attributes\n",
      "    will be None. Pass stdout=PIPE and/or stderr=PIPE in order to capture them.\n",
      "    \n",
      "    If check is True and the exit code was non-zero, it raises a\n",
      "    CalledProcessError. The CalledProcessError object will have the return code\n",
      "    in the returncode attribute, and output & stderr attributes if those streams\n",
      "    were captured.\n",
      "    \n",
      "    If timeout is given, and the process takes too long, a TimeoutExpired\n",
      "    exception will be raised.\n",
      "    \n",
      "    There is an optional argument \"input\", allowing you to\n",
      "    pass bytes or a string to the subprocess's stdin.  If you use this argument\n",
      "    you may not also use the Popen constructor's \"stdin\" argument, as\n",
      "    it will be used internally.\n",
      "    \n",
      "    By default, all communication is in bytes, and therefore any \"input\" should\n",
      "    be bytes, and the stdout and stderr will be bytes. If in text mode, any\n",
      "    \"input\" should be a string, and stdout and stderr will be strings decoded\n",
      "    according to locale encoding, or by \"encoding\" if set. Text mode is\n",
      "    triggered by setting any of text, encoding, errors or universal_newlines.\n",
      "    \n",
      "    The other arguments are the same as for the Popen constructor.\n",
      "\n"
     ]
    }
   ],
   "source": [
    "help(subprocess.run)"
   ]
  },
  {
   "cell_type": "code",
   "execution_count": 8,
   "metadata": {},
   "outputs": [
    {
     "name": "stdout",
     "output_type": "stream",
     "text": [
      "<class 'subprocess.CompletedProcess'>\n",
      "['grep', 'Python', 'hamlet.txt'] returned 1\n",
      "None None\n"
     ]
    }
   ],
   "source": [
    "procinfo = subprocess.run([\"grep\", \"Python\", \"hamlet.txt\"])\n",
    "print(type(procinfo))\n",
    "print(procinfo.args, \"returned\", procinfo.returncode)\n",
    "print(procinfo.stdout, procinfo.stderr)"
   ]
  },
  {
   "cell_type": "code",
   "execution_count": 9,
   "metadata": {},
   "outputs": [
    {
     "data": {
      "text/plain": [
       "CompletedProcess(args='cat poem.txt | grep wood', returncode=0, stdout=b'Two roads diverged in a yellow wood,\\t\\nTwo roads diverged in a wood, and I\\xe2\\x80\\x94\\t\\n', stderr=b'')"
      ]
     },
     "execution_count": 9,
     "metadata": {},
     "output_type": "execute_result"
    }
   ],
   "source": [
    "procinfo = subprocess.run(\"cat poem.txt | grep wood\", shell=True, capture_output=True)\n",
    "procinfo"
   ]
  },
  {
   "cell_type": "markdown",
   "metadata": {},
   "source": [
    "### The `threading` and `multiprocessing` modules\n",
    "* Similar interfaces - one creates *threads* and one creates *processes*\n",
    "* Fine-grained control with `Thread` and `Process` types\n",
    "    * Simpler concurrency with `ThreadPoolExecutor` and `ProcessPoolExecutor` available in the `concurrent.futures` module\n",
    "* Tradeoffs\n",
    "    * Threading - The GIL restricts multiple cores\n",
    "    * Multiprocessing - memory and communication\n",
    "* Concurrent code is hard - don't make it your hammer!"
   ]
  },
  {
   "cell_type": "markdown",
   "metadata": {},
   "source": [
    "### What are threads, anyway?\n",
    "* We studied **processes**, which are any running program and all the associated information.\n",
    "* The kernel schedules processes to run on the CPU\n",
    "* Within a given process, a program can create *threads of execution* which can run on a CPU (or core)\n",
    "* Threads **share all resources** within the process, so we must write *thread-safe* code"
   ]
  },
  {
   "cell_type": "code",
   "execution_count": 10,
   "metadata": {
    "scrolled": true
   },
   "outputs": [
    {
     "name": "stdout",
     "output_type": "stream",
     "text": [
      "Starting in the main thread: MainThread pid = 7309\n",
      "Running worker threads and going to sleep for 10 seconds\n",
      "Hello from thread Thread-4 in process 7309\n",
      "Worker 7309:Thread-4 is done!\n",
      "Hello from thread Thread-5 in process 7309\n",
      "Worker 7309:Thread-5 is done!\n",
      "Hello from thread Thread-6 in process 7309\n",
      "Worker 7309:Thread-6 is done!\n",
      "Hello from thread Thread-7 in process 7309\n",
      "Worker 7309:Thread-7 is done!\n",
      "Hello from thread Thread-8 in process 7309\n",
      "Worker 7309:Thread-8 is done!\n",
      "Hello from thread Thread-9 in process 7309\n",
      "Worker 7309:Thread-9 is done!\n",
      "Hello from thread Thread-10 in process 7309\n",
      "Worker 7309:Thread-10 is done!\n",
      "Hello from thread Thread-11 in process 7309\n",
      "Worker 7309:Thread-11 is done!\n",
      "Hello from thread Thread-12 in process 7309\n",
      "Worker 7309:Thread-12 is done!\n",
      "Hello from thread Thread-13 in process 7309\n",
      "Worker 7309:Thread-13 is done!\n",
      "Waiting for threads to finish\n",
      "Main thread is done!\n"
     ]
    }
   ],
   "source": [
    "import os\n",
    "import threading\n",
    "import time\n",
    "\n",
    "# This function gets started in a new thread\n",
    "def worker():\n",
    "    thread_name = threading.current_thread().name\n",
    "    pid = os.getpid()\n",
    "    print(\"Hello from thread\", thread_name, \"in process\", pid)\n",
    "    print(f\"Worker {pid}:{thread_name} is done!\")\n",
    "    \n",
    "\n",
    "# This code runs first, in the main thread\n",
    "print(\n",
    "    \"Starting in the main thread:\", \n",
    "    threading.current_thread().name,\n",
    "    \"pid =\",\n",
    "    os.getpid())\n",
    "# Create the threads\n",
    "# \"target\" is what the thread should run\n",
    "threads = [threading.Thread(target=worker) for i in range(10)]\n",
    "print(\"Running worker threads and going to sleep for 10 seconds\")\n",
    "\n",
    "# Start the threads running\n",
    "for thread in threads:\n",
    "    thread.start()\n",
    "time.sleep(10)\n",
    "print(\"Waiting for threads to finish\")\n",
    "# Wait for the threads to finish up\n",
    "for thread in threads:\n",
    "    thread.join()\n",
    "print(\"Main thread is done!\")"
   ]
  },
  {
   "cell_type": "code",
   "execution_count": 12,
   "metadata": {},
   "outputs": [
    {
     "name": "stdout",
     "output_type": "stream",
     "text": [
      "Starting in the main thread: MainThread pid = 7309\n",
      "Running worker threads and going to sleep for 10 seconds\n",
      "Hello from thread MainThread in process 22164\n",
      "Hello from thread MainThread in process 22165\n",
      "Hello from thread MainThread in process 22166\n",
      "Worker 22164:MainThread is done!\n",
      "Hello from thread MainThread in process 22169\n",
      "Worker 22165:MainThread is done!\n",
      "Worker 22166:MainThread is done!\n",
      "Worker 22169:MainThread is done!\n",
      "Hello from thread MainThread in process 22178\n",
      "Worker 22178:MainThread is done!\n",
      "Hello from thread MainThread in process 22184\n",
      "Hello from thread MainThread in process 22174\n",
      "Hello from thread MainThread in process 22187\n",
      "Worker 22187:MainThread is done!\n",
      "Hello from thread MainThread in process 22190\n",
      "Hello from thread MainThread in process 22199\n",
      "Worker 22190:MainThread is done!\n",
      "Worker 22174:MainThread is done!\n",
      "Worker 22184:MainThread is done!\n",
      "Worker 22199:MainThread is done!\n",
      "Waiting for threads to finish\n",
      "Main thread is done!\n"
     ]
    }
   ],
   "source": [
    "import os\n",
    "import multiprocessing\n",
    "import threading\n",
    "import time\n",
    "\n",
    "# This function gets started in a new subprocess\n",
    "def worker():\n",
    "    thread_name = threading.current_thread().name\n",
    "    pid = os.getpid()\n",
    "    print(\"Hello from thread\", thread_name, \"in process\", pid)\n",
    "    print(f\"Worker {pid}:{thread_name} is done!\")\n",
    "    \n",
    "\n",
    "# This code runs first, in the parent process    \n",
    "print(\n",
    "    \"Starting in the main thread:\", \n",
    "    threading.current_thread().name,\n",
    "    \"pid =\",\n",
    "    os.getpid())\n",
    "\n",
    "# Create the subprocesses\n",
    "# \"target\" is what the child process should run\n",
    "processes = [multiprocessing.Process(target=worker) for i in range(10)]\n",
    "print(\"Running worker threads and going to sleep for 10 seconds\")\n",
    "# Start the processes running\n",
    "for proc in processes:\n",
    "    proc.start()\n",
    "time.sleep(10)\n",
    "print(\"Waiting for threads to finish\")\n",
    "# Wait for the processes to finish up\n",
    "for proc in processes:\n",
    "    proc.join()\n",
    "print(\"Main thread is done!\")"
   ]
  },
  {
   "cell_type": "code",
   "execution_count": 11,
   "metadata": {},
   "outputs": [
    {
     "name": "stdout",
     "output_type": "stream",
     "text": [
      "Worker 20140 processing: Record #0\n",
      "Worker 20141 processing: Record #1\n",
      "Worker 20142 processing: Record #2\n",
      "Worker 20143 processing: Record #3\n",
      "Worker 20149 processing: Record #5\n",
      "Worker 20144 processing: Record #4\n",
      "Worker 20152 processing: Record #6\n",
      "Worker 20158 processing: Record #8\n",
      "Worker 20155 processing: Record #7\n",
      "Worker 20163 processing: Record #9\n",
      "Worker 20140 processing: Record #10\n",
      "Worker 20141 processing: Record #11\n",
      "Worker 20143 processing: Record #12\n",
      "Worker 20142 processing: Record #13\n",
      "Worker 20152 processing: Record #15\n",
      "Worker 20149 processing: Record #14\n",
      "Worker 20144 processing: Record #16\n",
      "Worker 20155 processing: Record #18\n",
      "Worker 20163 processing: Record #19\n",
      "Worker 20158 processing: Record #17\n",
      "Worker 20140 processing: Record #20\n",
      "Worker 20141 processing: Record #21\n",
      "Worker 20143 processing: Record #22\n",
      "Worker 20142 processing: Record #23\n",
      "Worker 20152 processing: Record #24\n",
      "Worker 20144 processing: Record #26\n",
      "Worker 20149 processing: Record #25\n",
      "Worker 20155 processing: Record #27\n",
      "Worker 20158 processing: Record #29\n",
      "Worker 20163 processing: Record #28\n",
      "Worker 20140 processing: Record #30\n",
      "Worker 20141 processing: Record #31\n",
      "Worker 20143 processing: Record #32\n",
      "Worker 20142 processing: Record #33\n",
      "Worker 20152 processing: Record #34\n",
      "Worker 20149 processing: Record #36\n",
      "Worker 20144 processing: Record #35\n",
      "Worker 20158 processing: Record #37\n",
      "Worker 20155 processing: Record #38\n",
      "Worker 20163 processing: Record #39\n",
      "Worker 20140 processing: Record #40\n",
      "Worker 20141 processing: Record #41\n",
      "Worker 20143 processing: Record #42\n",
      "Worker 20142 processing: Record #43\n",
      "Worker 20152 processing: Record #44\n",
      "Worker 20144 processing: Record #46\n",
      "Worker 20149 processing: Record #45\n",
      "Worker 20158 processing: Record #47\n",
      "Worker 20163 processing: Record #49\n",
      "Worker 20155 processing: Record #48\n",
      "Worker 20140 processing: Record #50\n",
      "Worker 20141 processing: Record #51\n",
      "Worker 20143 processing: Record #52\n",
      "Worker 20142 processing: Record #53\n",
      "Worker 20152 processing: Record #54\n",
      "Worker 20149 processing: Record #56\n",
      "Worker 20144 processing: Record #55\n",
      "Worker 20158 processing: Record #57\n",
      "Worker 20163 processing: Record #58\n",
      "Worker 20155 processing: Record #59\n",
      "Worker 20140 processing: Record #60\n",
      "Worker 20141 processing: Record #61\n",
      "Worker 20143 processing: Record #62\n",
      "Worker 20142 processing: Record #63\n",
      "Worker 20152 processing: Record #64\n",
      "Worker 20149 processing: Record #65\n",
      "Worker 20144 processing: Record #66\n",
      "Worker 20158 processing: Record #67\n",
      "Worker 20155 processing: Record #69\n",
      "Worker 20163 processing: Record #68\n",
      "Worker 20140 processing: Record #70\n",
      "Worker 20141 processing: Record #71\n",
      "Worker 20143 processing: Record #72\n",
      "Worker 20142 processing: Record #73\n",
      "Worker 20152 processing: Record #74\n",
      "Worker 20144 processing: Record #76\n",
      "Worker 20149 processing: Record #75\n",
      "Worker 20158 processing: Record #77\n",
      "Worker 20155 processing: Record #79\n",
      "Worker 20163 processing: Record #78\n",
      "Worker 20140 processing: Record #80\n",
      "Worker 20141 processing: Record #81\n",
      "Worker 20143 processing: Record #82\n",
      "Worker 20142 processing: Record #83\n",
      "Worker 20152 processing: Record #84\n",
      "Worker 20144 processing: Record #85\n",
      "Worker 20149 processing: Record #86\n",
      "Worker 20158 processing: Record #87\n",
      "Worker 20155 processing: Record #88\n",
      "Worker 20163 processing: Record #89\n",
      "Worker 20140 processing: Record #90\n",
      "Worker 20141 processing: Record #91\n",
      "Worker 20143 processing: Record #92\n",
      "Worker 20142 processing: Record #93\n",
      "Worker 20144 processing: Record #94\n",
      "Worker 20152 processing: Record #95\n",
      "Worker 20149 processing: Record #96\n",
      "Worker 20158 processing: Record #97\n",
      "Worker 20155 processing: Record #98\n",
      "Worker 20163 processing: Record #99\n",
      "Worker 20140 quitting.\n",
      "Worker 20141 quitting.\n",
      "Worker 20143 quitting.\n",
      "Worker 20142 quitting.\n",
      "Worker 20144 quitting.\n",
      "Worker 20152 quitting.\n",
      "Worker 20149 quitting.\n",
      "Worker 20155 quitting.\n",
      "Worker 20158 quitting.\n",
      "Worker 20163 quitting.\n",
      "All work complete!\n"
     ]
    }
   ],
   "source": [
    "import os\n",
    "import multiprocessing\n",
    "import queue\n",
    "import time\n",
    "\n",
    "def worker(q):\n",
    "    pid = os.getpid()\n",
    "    while True:\n",
    "        try:\n",
    "            next_task = q.get(timeout=1)\n",
    "        except queue.Empty:\n",
    "            print(\"Worker\", pid, \"quitting.\")\n",
    "            break\n",
    "        print(\"Worker\", pid, \"processing:\", next_task)\n",
    "        time.sleep(1)\n",
    "\n",
    "# Create work tasks in the main process\n",
    "# and use a Queue to distribute work to the\n",
    "# child processes\n",
    "to_do = multiprocessing.Queue()\n",
    "for i in range(100):\n",
    "    to_do.put(f\"Record #{i}\")\n",
    "\n",
    "processes = [\n",
    "    multiprocessing.Process(target=worker, args=(to_do,)) \n",
    "    for i in range(10)]\n",
    "\n",
    "for proc in processes:\n",
    "    proc.start()\n",
    "for proc in processes:\n",
    "    proc.join()\n",
    "print(\"All work complete!\")"
   ]
  },
  {
   "cell_type": "markdown",
   "metadata": {},
   "source": [
    "### The `asyncio` module\n",
    "* Allows asynchronous processing WITHOUT creating threads or processes\n",
    "* Uses the new `async` and `await` keywords (Python 3.5+)\n",
    "* Uses an *event loop* to run tasks in *coroutines*"
   ]
  },
  {
   "cell_type": "markdown",
   "metadata": {},
   "source": [
    "### Cooperative Multitasking vs. Preemptive Multitasking\n",
    "* `threading` and `multiprocessing` both use *preemptive multitasking*\n",
    "    * Operating system is aware of the threads and processes\n",
    "    * The OS (kernel) can preempt (interrupt) a thread or process **at any time** and we have no control over it!\n",
    "    * Requires OS-level synchronization objects and can lead to subtle bugs like *race conditions*\n",
    "* `asyncio` uses *cooperative multitasking*\n",
    "    * Only runs in a single thread, no OS-level synchronization\n",
    "    * Event loop keeps track of ready tasks vs. waiting tasks\n",
    "    * Currently running task must *voluntarily yield control* back to the event loop"
   ]
  },
  {
   "cell_type": "code",
   "execution_count": null,
   "metadata": {},
   "outputs": [],
   "source": [
    "###### DOESN'T WORK IN JUPYTER NOTEBOOK #########\n",
    "\n",
    "import asyncio\n",
    "\n",
    "# Async declares this as a coroutine\n",
    "async def blip_on_2():\n",
    "    # Await yields control to the event loop\n",
    "    for i in range(10):\n",
    "        await asyncio.sleep(2)\n",
    "        print(f\"Blip #{i}!\")\n",
    "\n",
    "# Coroutines can take args, just like regular functions\n",
    "async def bloop_on_X(x):\n",
    "    for i in range(10):\n",
    "        await asyncio.sleep(x)\n",
    "        print(f\"Bloop #{i}!\")\n",
    "        \n",
    "async def read_poem():\n",
    "    with open(\"poem.txt\") as poem:\n",
    "        for line in poem:\n",
    "            print(line)\n",
    "            await asyncio.sleep(0.5)\n",
    "            \n",
    "            \n",
    "async def main():\n",
    "    # Create tasks so these coroutines can all run concurrently\n",
    "    blip_task = asyncio.create_task(blip_on_2())\n",
    "    bloop_task = asyncio.create_task(bloop_on_X(3))\n",
    "    read_poem_task = asyncio.create_task(read_poem())\n",
    "    \n",
    "    print(\"Main: Waiting on tasks to complete!\")\n",
    "    # Wait for all tasks to complete\n",
    "    await blip_task\n",
    "    await bloop_task\n",
    "    await read_poem_task\n",
    "    print(\"All Done!\")\n",
    "\n",
    "# Starts the event loop with the main() coroutine\n",
    "asyncio.run(main())"
   ]
  },
  {
   "cell_type": "markdown",
   "metadata": {},
   "source": [
    "### Concurrency Recap\n",
    "* Concurrency doesn't magically speed up code - it simply takes advantage the time your code is *already sitting idle* waiting on I/O\n",
    "* Only `multiprocessing` truly can run *parallel* code on multiple cores, but you pay a resource cost\n",
    "* Concurrent code syncronization can be difficult - look for easier cases\n",
    "    * Tasks that are completely independent\n",
    "    * Tasks that wait around for file or network I/O\n",
    "    * Tasks that can be easily broken into batches and combined at the end"
   ]
  },
  {
   "cell_type": "code",
   "execution_count": null,
   "metadata": {},
   "outputs": [],
   "source": []
  }
 ],
 "metadata": {
  "celltoolbar": "Slideshow",
  "kernelspec": {
   "display_name": "Python 3",
   "language": "python",
   "name": "python3"
  },
  "language_info": {
   "codemirror_mode": {
    "name": "ipython",
    "version": 3
   },
   "file_extension": ".py",
   "mimetype": "text/x-python",
   "name": "python",
   "nbconvert_exporter": "python",
   "pygments_lexer": "ipython3",
   "version": "3.7.10"
  }
 },
 "nbformat": 4,
 "nbformat_minor": 4
}
